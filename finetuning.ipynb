{
 "cells": [
  {
   "cell_type": "code",
   "execution_count": 49,
   "metadata": {},
   "outputs": [
    {
     "name": "stdout",
     "output_type": "stream",
     "text": [
      "afs  boot  dev\tetc   lib    media  mnt  opt   root  sbin  sys\tusers  var\n",
      "bin  Data  do\thome  lib64  misc   net  proc  run   srv   tmp\tusr\n"
     ]
    }
   ],
   "source": []
  }
 ],
 "metadata": {
  "language_info": {
   "name": "python"
  }
 },
 "nbformat": 4,
 "nbformat_minor": 2
}
