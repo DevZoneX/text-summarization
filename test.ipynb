{
 "cells": [
  {
   "cell_type": "code",
   "execution_count": 1,
   "metadata": {},
   "outputs": [],
   "source": [
    "import json"
   ]
  },
  {
   "cell_type": "code",
   "execution_count": 2,
   "metadata": {},
   "outputs": [],
   "source": [
    "good_scores = json.load(open('scores/good_scores.json', 'r'))\n",
    "bad_scores = json.load(open('scores/bad_scores.json', 'r'))"
   ]
  },
  {
   "cell_type": "code",
   "execution_count": 4,
   "metadata": {},
   "outputs": [],
   "source": [
    "F1_good_scores = [score['F1-score'] for score in good_scores]\n",
    "F1_bad_scores = [score['F1-score'] for score in bad_scores]\n",
    "\n",
    "Precision_good_scores = [score['Precision'] for score in good_scores]\n",
    "Precision_bad_scores = [score['Precision'] for score in bad_scores]\n",
    "\n",
    "Recall_good_scores = [score['Recall'] for score in good_scores]\n",
    "Recall_bad_scores = [score['Recall'] for score in bad_scores]"
   ]
  },
  {
   "cell_type": "code",
   "execution_count": 6,
   "metadata": {},
   "outputs": [
    {
     "name": "stdout",
     "output_type": "stream",
     "text": [
      "F1-scores:\n",
      "--------------------\n",
      "Good scores mean: 0.6820049513083707\n",
      "\n",
      "Bad scores mean: 0.6423906561939934\n",
      "--------------------\n",
      "Precision:\n",
      "--------------------\n",
      "Good scores mean: 0.7453625507224461\n",
      "\n",
      "Bad scores mean: 0.7014457143989976\n",
      "--------------------\n",
      "Recall:\n",
      "--------------------\n",
      "Good scores mean: 0.6310297233010365\n",
      "\n",
      "Bad scores mean: 0.5946983401547257\n",
      "--------------------\n"
     ]
    }
   ],
   "source": [
    "print('F1-scores:')\n",
    "print(\"--------------------\")\n",
    "print('Good scores mean:', sum(F1_good_scores) / len(F1_good_scores))\n",
    "print('\\nBad scores mean:', sum(F1_bad_scores) / len(F1_bad_scores))\n",
    "print(\"--------------------\")\n",
    "print('Precision:')\n",
    "print(\"--------------------\")\n",
    "print('Good scores mean:', sum(Precision_good_scores) / len(Precision_good_scores))\n",
    "print('\\nBad scores mean:', sum(Precision_bad_scores) / len(Precision_bad_scores))\n",
    "print(\"--------------------\")\n",
    "print('Recall:')\n",
    "print(\"--------------------\")\n",
    "print('Good scores mean:', sum(Recall_good_scores) / len(Recall_good_scores))\n",
    "print('\\nBad scores mean:', sum(Recall_bad_scores) / len(Recall_bad_scores))\n",
    "print(\"--------------------\")\n"
   ]
  }
 ],
 "metadata": {
  "kernelspec": {
   "display_name": "my_venv",
   "language": "python",
   "name": "my_venv"
  },
  "language_info": {
   "codemirror_mode": {
    "name": "ipython",
    "version": 3
   },
   "file_extension": ".py",
   "mimetype": "text/x-python",
   "name": "python",
   "nbconvert_exporter": "python",
   "pygments_lexer": "ipython3",
   "version": "3.9.21"
  }
 },
 "nbformat": 4,
 "nbformat_minor": 2
}
